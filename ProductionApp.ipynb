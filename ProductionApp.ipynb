{
 "cells": [
  {
   "cell_type": "code",
   "execution_count": 12,
   "id": "502167ab",
   "metadata": {},
   "outputs": [],
   "source": [
    "from ipywidgets import *\n",
    "from fastai.vision.all import *"
   ]
  },
  {
   "cell_type": "code",
   "execution_count": 3,
   "id": "9c53291b",
   "metadata": {},
   "outputs": [
    {
     "data": {
      "application/vnd.jupyter.widget-view+json": {
       "model_id": "9fe3ef1527b249f88cded293835223ab",
       "version_major": 2,
       "version_minor": 0
      },
      "text/plain": [
       "FileUpload(value={}, description='Upload')"
      ]
     },
     "metadata": {},
     "output_type": "display_data"
    }
   ],
   "source": [
    "btn_upload = widgets.FileUpload()\n",
    "btn_upload"
   ]
  },
  {
   "cell_type": "code",
   "execution_count": 13,
   "id": "7fdca7ee",
   "metadata": {},
   "outputs": [
    {
     "data": {
      "application/vnd.jupyter.widget-view+json": {
       "model_id": "4a8daf6ac84e45cab86f2e47cdbfdc4a",
       "version_major": 2,
       "version_minor": 0
      },
      "text/plain": [
       "Output()"
      ]
     },
     "metadata": {},
     "output_type": "display_data"
    }
   ],
   "source": [
    "img = PILImage.create(btn_upload.data[-1])\n",
    "out_pl = widgets.Output()\n",
    "out_pl.clear_output()\n",
    "with out_pl: display(img.to_thumb(128,128))\n",
    "out_pl"
   ]
  },
  {
   "cell_type": "code",
   "execution_count": 15,
   "id": "35247fd8",
   "metadata": {},
   "outputs": [],
   "source": [
    "learn_inf = load_learner('export.pkl')"
   ]
  },
  {
   "cell_type": "code",
   "execution_count": 16,
   "id": "4cf27dd7",
   "metadata": {},
   "outputs": [
    {
     "data": {
      "text/html": [
       "\n",
       "<style>\n",
       "    /* Turns off some styling */\n",
       "    progress {\n",
       "        /* gets rid of default border in Firefox and Opera. */\n",
       "        border: none;\n",
       "        /* Needs to be in here for Safari polyfill so background images work as expected. */\n",
       "        background-size: auto;\n",
       "    }\n",
       "    progress:not([value]), progress:not([value])::-webkit-progress-bar {\n",
       "        background: repeating-linear-gradient(45deg, #7e7e7e, #7e7e7e 10px, #5c5c5c 10px, #5c5c5c 20px);\n",
       "    }\n",
       "    .progress-bar-interrupted, .progress-bar-interrupted::-webkit-progress-bar {\n",
       "        background: #F44336;\n",
       "    }\n",
       "</style>\n"
      ],
      "text/plain": [
       "<IPython.core.display.HTML object>"
      ]
     },
     "metadata": {},
     "output_type": "display_data"
    },
    {
     "data": {
      "text/html": [],
      "text/plain": [
       "<IPython.core.display.HTML object>"
      ]
     },
     "metadata": {},
     "output_type": "display_data"
    }
   ],
   "source": [
    "pred,pred_idx,probs = learn_inf.predict(img)"
   ]
  },
  {
   "cell_type": "code",
   "execution_count": 21,
   "id": "af99a4c7",
   "metadata": {},
   "outputs": [
    {
     "data": {
      "application/vnd.jupyter.widget-view+json": {
       "model_id": "9dafeb758a954b02bf62fb413c9be303",
       "version_major": 2,
       "version_minor": 0
      },
      "text/plain": [
       "Label(value='Prediction: teddy; Probability: 100%')"
      ]
     },
     "metadata": {},
     "output_type": "display_data"
    }
   ],
   "source": [
    "lbl_pred = widgets.Label()\n",
    "lbl_pred.value = f'Prediction: {pred}; Probability: {probs[pred_idx]*100:.00f}%'\n",
    "lbl_pred"
   ]
  },
  {
   "cell_type": "code",
   "execution_count": 22,
   "id": "3427f7ac",
   "metadata": {},
   "outputs": [
    {
     "data": {
      "application/vnd.jupyter.widget-view+json": {
       "model_id": "cfbce1da3dc44cf1a23c472166a59d4e",
       "version_major": 2,
       "version_minor": 0
      },
      "text/plain": [
       "Button(description='Classify', style=ButtonStyle())"
      ]
     },
     "metadata": {},
     "output_type": "display_data"
    },
    {
     "data": {
      "text/html": [
       "\n",
       "<style>\n",
       "    /* Turns off some styling */\n",
       "    progress {\n",
       "        /* gets rid of default border in Firefox and Opera. */\n",
       "        border: none;\n",
       "        /* Needs to be in here for Safari polyfill so background images work as expected. */\n",
       "        background-size: auto;\n",
       "    }\n",
       "    progress:not([value]), progress:not([value])::-webkit-progress-bar {\n",
       "        background: repeating-linear-gradient(45deg, #7e7e7e, #7e7e7e 10px, #5c5c5c 10px, #5c5c5c 20px);\n",
       "    }\n",
       "    .progress-bar-interrupted, .progress-bar-interrupted::-webkit-progress-bar {\n",
       "        background: #F44336;\n",
       "    }\n",
       "</style>\n"
      ],
      "text/plain": [
       "<IPython.core.display.HTML object>"
      ]
     },
     "metadata": {},
     "output_type": "display_data"
    },
    {
     "data": {
      "text/html": [],
      "text/plain": [
       "<IPython.core.display.HTML object>"
      ]
     },
     "metadata": {},
     "output_type": "display_data"
    },
    {
     "data": {
      "text/html": [
       "\n",
       "<style>\n",
       "    /* Turns off some styling */\n",
       "    progress {\n",
       "        /* gets rid of default border in Firefox and Opera. */\n",
       "        border: none;\n",
       "        /* Needs to be in here for Safari polyfill so background images work as expected. */\n",
       "        background-size: auto;\n",
       "    }\n",
       "    progress:not([value]), progress:not([value])::-webkit-progress-bar {\n",
       "        background: repeating-linear-gradient(45deg, #7e7e7e, #7e7e7e 10px, #5c5c5c 10px, #5c5c5c 20px);\n",
       "    }\n",
       "    .progress-bar-interrupted, .progress-bar-interrupted::-webkit-progress-bar {\n",
       "        background: #F44336;\n",
       "    }\n",
       "</style>\n"
      ],
      "text/plain": [
       "<IPython.core.display.HTML object>"
      ]
     },
     "metadata": {},
     "output_type": "display_data"
    },
    {
     "data": {
      "text/html": [],
      "text/plain": [
       "<IPython.core.display.HTML object>"
      ]
     },
     "metadata": {},
     "output_type": "display_data"
    },
    {
     "data": {
      "text/html": [
       "\n",
       "<style>\n",
       "    /* Turns off some styling */\n",
       "    progress {\n",
       "        /* gets rid of default border in Firefox and Opera. */\n",
       "        border: none;\n",
       "        /* Needs to be in here for Safari polyfill so background images work as expected. */\n",
       "        background-size: auto;\n",
       "    }\n",
       "    progress:not([value]), progress:not([value])::-webkit-progress-bar {\n",
       "        background: repeating-linear-gradient(45deg, #7e7e7e, #7e7e7e 10px, #5c5c5c 10px, #5c5c5c 20px);\n",
       "    }\n",
       "    .progress-bar-interrupted, .progress-bar-interrupted::-webkit-progress-bar {\n",
       "        background: #F44336;\n",
       "    }\n",
       "</style>\n"
      ],
      "text/plain": [
       "<IPython.core.display.HTML object>"
      ]
     },
     "metadata": {},
     "output_type": "display_data"
    },
    {
     "data": {
      "text/html": [],
      "text/plain": [
       "<IPython.core.display.HTML object>"
      ]
     },
     "metadata": {},
     "output_type": "display_data"
    },
    {
     "data": {
      "text/html": [
       "\n",
       "<style>\n",
       "    /* Turns off some styling */\n",
       "    progress {\n",
       "        /* gets rid of default border in Firefox and Opera. */\n",
       "        border: none;\n",
       "        /* Needs to be in here for Safari polyfill so background images work as expected. */\n",
       "        background-size: auto;\n",
       "    }\n",
       "    progress:not([value]), progress:not([value])::-webkit-progress-bar {\n",
       "        background: repeating-linear-gradient(45deg, #7e7e7e, #7e7e7e 10px, #5c5c5c 10px, #5c5c5c 20px);\n",
       "    }\n",
       "    .progress-bar-interrupted, .progress-bar-interrupted::-webkit-progress-bar {\n",
       "        background: #F44336;\n",
       "    }\n",
       "</style>\n"
      ],
      "text/plain": [
       "<IPython.core.display.HTML object>"
      ]
     },
     "metadata": {},
     "output_type": "display_data"
    },
    {
     "data": {
      "text/html": [],
      "text/plain": [
       "<IPython.core.display.HTML object>"
      ]
     },
     "metadata": {},
     "output_type": "display_data"
    },
    {
     "data": {
      "text/html": [
       "\n",
       "<style>\n",
       "    /* Turns off some styling */\n",
       "    progress {\n",
       "        /* gets rid of default border in Firefox and Opera. */\n",
       "        border: none;\n",
       "        /* Needs to be in here for Safari polyfill so background images work as expected. */\n",
       "        background-size: auto;\n",
       "    }\n",
       "    progress:not([value]), progress:not([value])::-webkit-progress-bar {\n",
       "        background: repeating-linear-gradient(45deg, #7e7e7e, #7e7e7e 10px, #5c5c5c 10px, #5c5c5c 20px);\n",
       "    }\n",
       "    .progress-bar-interrupted, .progress-bar-interrupted::-webkit-progress-bar {\n",
       "        background: #F44336;\n",
       "    }\n",
       "</style>\n"
      ],
      "text/plain": [
       "<IPython.core.display.HTML object>"
      ]
     },
     "metadata": {},
     "output_type": "display_data"
    },
    {
     "data": {
      "text/html": [],
      "text/plain": [
       "<IPython.core.display.HTML object>"
      ]
     },
     "metadata": {},
     "output_type": "display_data"
    }
   ],
   "source": [
    "btn_run = widgets.Button(description='Classify')\n",
    "btn_run"
   ]
  },
  {
   "cell_type": "code",
   "execution_count": 24,
   "id": "61d91e3f",
   "metadata": {},
   "outputs": [],
   "source": [
    "def on_click_classify(change):\n",
    " img = PILImage.create(btn_upload.data[-1])\n",
    " out_pl.clear_output()\n",
    " with out_pl: display(img.to_thumb(128,128))\n",
    " pred,pred_idx,probs = learn_inf.predict(img)\n",
    " lbl_pred.value = f'Prediction: {pred}; Probability: {probs[pred_idx]*100:.00f}%'"
   ]
  },
  {
   "cell_type": "code",
   "execution_count": 25,
   "id": "dd2a875f",
   "metadata": {},
   "outputs": [],
   "source": [
    "btn_run.on_click(on_click_classify)"
   ]
  },
  {
   "cell_type": "code",
   "execution_count": 26,
   "id": "761ee398",
   "metadata": {},
   "outputs": [
    {
     "data": {
      "application/vnd.jupyter.widget-view+json": {
       "model_id": "44431444c0aa41a19157d387eaa29dc4",
       "version_major": 2,
       "version_minor": 0
      },
      "text/plain": [
       "VBox(children=(Label(value='Select your bear!'), FileUpload(value={'bt.jpg': {'metadata': {'name': 'bt.jpg', '…"
      ]
     },
     "metadata": {},
     "output_type": "display_data"
    }
   ],
   "source": [
    "VBox([widgets.Label('Select your bear!'),\n",
    "btn_upload, btn_run, out_pl, lbl_pred])"
   ]
  },
  {
   "cell_type": "code",
   "execution_count": 27,
   "id": "c75027e4",
   "metadata": {},
   "outputs": [
    {
     "name": "stdout",
     "output_type": "stream",
     "text": [
      "Collecting voila\n",
      "  Using cached voila-0.5.8-py3-none-any.whl.metadata (9.5 kB)\n",
      "Collecting jupyter-client<9,>=7.4.4 (from voila)\n",
      "  Using cached jupyter_client-8.6.3-py3-none-any.whl.metadata (8.3 kB)\n",
      "Collecting jupyter-core>=4.11.0 (from voila)\n",
      "  Downloading jupyter_core-5.8.1-py3-none-any.whl.metadata (1.6 kB)\n",
      "Collecting jupyter-server<3,>=1.18 (from voila)\n",
      "  Downloading jupyter_server-2.16.0-py3-none-any.whl.metadata (8.5 kB)\n",
      "Collecting jupyterlab-server<3,>=2.3.0 (from voila)\n",
      "  Using cached jupyterlab_server-2.27.3-py3-none-any.whl.metadata (5.9 kB)\n",
      "Collecting nbclient>=0.4.0 (from voila)\n",
      "  Using cached nbclient-0.10.2-py3-none-any.whl.metadata (8.3 kB)\n",
      "Collecting nbconvert<8,>=6.4.5 (from voila)\n",
      "  Downloading nbconvert-7.16.6-py3-none-any.whl.metadata (8.5 kB)\n",
      "Collecting traitlets<6,>=5.0.3 (from voila)\n",
      "  Using cached traitlets-5.14.3-py3-none-any.whl.metadata (10 kB)\n",
      "Collecting websockets>=9.0 (from voila)\n",
      "  Downloading websockets-15.0.1-cp311-cp311-win_amd64.whl.metadata (7.0 kB)\n",
      "Requirement already satisfied: python-dateutil>=2.8.2 in c:\\users\\moham\\appdata\\local\\programs\\python\\python311\\lib\\site-packages (from jupyter-client<9,>=7.4.4->voila) (2.9.0.post0)\n",
      "Collecting pyzmq>=23.0 (from jupyter-client<9,>=7.4.4->voila)\n",
      "  Downloading pyzmq-27.0.0-cp311-cp311-win_amd64.whl.metadata (6.0 kB)\n",
      "Collecting tornado>=6.2 (from jupyter-client<9,>=7.4.4->voila)\n",
      "  Downloading tornado-6.5.1-cp39-abi3-win_amd64.whl.metadata (2.9 kB)\n",
      "Collecting anyio>=3.1.0 (from jupyter-server<3,>=1.18->voila)\n",
      "  Downloading anyio-4.9.0-py3-none-any.whl.metadata (4.7 kB)\n",
      "Collecting argon2-cffi>=21.1 (from jupyter-server<3,>=1.18->voila)\n",
      "  Downloading argon2_cffi-25.1.0-py3-none-any.whl.metadata (4.1 kB)\n",
      "Collecting jinja2>=3.0.3 (from jupyter-server<3,>=1.18->voila)\n",
      "  Downloading jinja2-3.1.6-py3-none-any.whl.metadata (2.9 kB)\n",
      "Collecting jupyter-events>=0.11.0 (from jupyter-server<3,>=1.18->voila)\n",
      "  Downloading jupyter_events-0.12.0-py3-none-any.whl.metadata (5.8 kB)\n",
      "Collecting jupyter-server-terminals>=0.4.4 (from jupyter-server<3,>=1.18->voila)\n",
      "  Using cached jupyter_server_terminals-0.5.3-py3-none-any.whl.metadata (5.6 kB)\n",
      "Collecting nbformat>=5.3.0 (from jupyter-server<3,>=1.18->voila)\n",
      "  Using cached nbformat-5.10.4-py3-none-any.whl.metadata (3.6 kB)\n",
      "Collecting overrides>=5.0 (from jupyter-server<3,>=1.18->voila)\n",
      "  Using cached overrides-7.7.0-py3-none-any.whl.metadata (5.8 kB)\n",
      "Requirement already satisfied: packaging>=22.0 in c:\\users\\moham\\appdata\\local\\programs\\python\\python311\\lib\\site-packages (from jupyter-server<3,>=1.18->voila) (25.0)\n",
      "Collecting prometheus-client>=0.9 (from jupyter-server<3,>=1.18->voila)\n",
      "  Downloading prometheus_client-0.22.1-py3-none-any.whl.metadata (1.9 kB)\n",
      "Collecting pywinpty>=2.0.1 (from jupyter-server<3,>=1.18->voila)\n",
      "  Downloading pywinpty-2.0.15-cp311-cp311-win_amd64.whl.metadata (5.2 kB)\n",
      "Collecting send2trash>=1.8.2 (from jupyter-server<3,>=1.18->voila)\n",
      "  Using cached Send2Trash-1.8.3-py3-none-any.whl.metadata (4.0 kB)\n",
      "Collecting terminado>=0.8.3 (from jupyter-server<3,>=1.18->voila)\n",
      "  Using cached terminado-0.18.1-py3-none-any.whl.metadata (5.8 kB)\n",
      "Collecting websocket-client>=1.7 (from jupyter-server<3,>=1.18->voila)\n",
      "  Using cached websocket_client-1.8.0-py3-none-any.whl.metadata (8.0 kB)\n",
      "Collecting babel>=2.10 (from jupyterlab-server<3,>=2.3.0->voila)\n",
      "  Downloading babel-2.17.0-py3-none-any.whl.metadata (2.0 kB)\n",
      "Collecting json5>=0.9.0 (from jupyterlab-server<3,>=2.3.0->voila)\n",
      "  Downloading json5-0.12.0-py3-none-any.whl.metadata (36 kB)\n",
      "Collecting jsonschema>=4.18.0 (from jupyterlab-server<3,>=2.3.0->voila)\n",
      "  Downloading jsonschema-4.25.0-py3-none-any.whl.metadata (7.7 kB)\n",
      "Requirement already satisfied: requests>=2.31 in c:\\users\\moham\\appdata\\local\\programs\\python\\python311\\lib\\site-packages (from jupyterlab-server<3,>=2.3.0->voila) (2.32.4)\n",
      "Collecting beautifulsoup4 (from nbconvert<8,>=6.4.5->voila)\n",
      "  Downloading beautifulsoup4-4.13.4-py3-none-any.whl.metadata (3.8 kB)\n",
      "Collecting bleach!=5.0.0 (from bleach[css]!=5.0.0->nbconvert<8,>=6.4.5->voila)\n",
      "  Using cached bleach-6.2.0-py3-none-any.whl.metadata (30 kB)\n",
      "Collecting defusedxml (from nbconvert<8,>=6.4.5->voila)\n",
      "  Using cached defusedxml-0.7.1-py2.py3-none-any.whl.metadata (32 kB)\n",
      "Collecting jupyterlab-pygments (from nbconvert<8,>=6.4.5->voila)\n",
      "  Using cached jupyterlab_pygments-0.3.0-py3-none-any.whl.metadata (4.4 kB)\n",
      "Requirement already satisfied: markupsafe>=2.0 in c:\\users\\moham\\appdata\\local\\programs\\python\\python311\\lib\\site-packages (from nbconvert<8,>=6.4.5->voila) (3.0.2)\n",
      "Collecting mistune<4,>=2.0.3 (from nbconvert<8,>=6.4.5->voila)\n",
      "  Downloading mistune-3.1.3-py3-none-any.whl.metadata (1.8 kB)\n",
      "Collecting pandocfilters>=1.4.1 (from nbconvert<8,>=6.4.5->voila)\n",
      "  Using cached pandocfilters-1.5.1-py2.py3-none-any.whl.metadata (9.0 kB)\n",
      "Requirement already satisfied: pygments>=2.4.1 in c:\\users\\moham\\appdata\\local\\programs\\python\\python311\\lib\\site-packages (from nbconvert<8,>=6.4.5->voila) (2.19.2)\n",
      "Requirement already satisfied: idna>=2.8 in c:\\users\\moham\\appdata\\local\\programs\\python\\python311\\lib\\site-packages (from anyio>=3.1.0->jupyter-server<3,>=1.18->voila) (3.10)\n",
      "Collecting sniffio>=1.1 (from anyio>=3.1.0->jupyter-server<3,>=1.18->voila)\n",
      "  Using cached sniffio-1.3.1-py3-none-any.whl.metadata (3.9 kB)\n",
      "Requirement already satisfied: typing_extensions>=4.5 in c:\\users\\moham\\appdata\\local\\programs\\python\\python311\\lib\\site-packages (from anyio>=3.1.0->jupyter-server<3,>=1.18->voila) (4.14.1)\n",
      "Collecting argon2-cffi-bindings (from argon2-cffi>=21.1->jupyter-server<3,>=1.18->voila)\n",
      "  Using cached argon2_cffi_bindings-21.2.0-cp36-abi3-win_amd64.whl.metadata (6.7 kB)\n",
      "Collecting webencodings (from bleach!=5.0.0->bleach[css]!=5.0.0->nbconvert<8,>=6.4.5->voila)\n",
      "  Using cached webencodings-0.5.1-py2.py3-none-any.whl.metadata (2.1 kB)\n",
      "Collecting tinycss2<1.5,>=1.1.0 (from bleach[css]!=5.0.0->nbconvert<8,>=6.4.5->voila)\n",
      "  Using cached tinycss2-1.4.0-py3-none-any.whl.metadata (3.0 kB)\n",
      "Collecting attrs>=22.2.0 (from jsonschema>=4.18.0->jupyterlab-server<3,>=2.3.0->voila)\n",
      "  Downloading attrs-25.3.0-py3-none-any.whl.metadata (10 kB)\n",
      "Collecting jsonschema-specifications>=2023.03.6 (from jsonschema>=4.18.0->jupyterlab-server<3,>=2.3.0->voila)\n",
      "  Downloading jsonschema_specifications-2025.4.1-py3-none-any.whl.metadata (2.9 kB)\n",
      "Collecting referencing>=0.28.4 (from jsonschema>=4.18.0->jupyterlab-server<3,>=2.3.0->voila)\n",
      "  Downloading referencing-0.36.2-py3-none-any.whl.metadata (2.8 kB)\n",
      "Collecting rpds-py>=0.7.1 (from jsonschema>=4.18.0->jupyterlab-server<3,>=2.3.0->voila)\n",
      "  Downloading rpds_py-0.26.0-cp311-cp311-win_amd64.whl.metadata (4.3 kB)\n",
      "Collecting platformdirs>=2.5 (from jupyter-core>=4.11.0->voila)\n",
      "  Downloading platformdirs-4.3.8-py3-none-any.whl.metadata (12 kB)\n",
      "Collecting pywin32>=300 (from jupyter-core>=4.11.0->voila)\n",
      "  Downloading pywin32-311-cp311-cp311-win_amd64.whl.metadata (10 kB)\n",
      "Collecting python-json-logger>=2.0.4 (from jupyter-events>=0.11.0->jupyter-server<3,>=1.18->voila)\n",
      "  Downloading python_json_logger-3.3.0-py3-none-any.whl.metadata (4.0 kB)\n",
      "Collecting pyyaml>=5.3 (from jupyter-events>=0.11.0->jupyter-server<3,>=1.18->voila)\n",
      "  Downloading PyYAML-6.0.2-cp311-cp311-win_amd64.whl.metadata (2.1 kB)\n",
      "Collecting rfc3339-validator (from jupyter-events>=0.11.0->jupyter-server<3,>=1.18->voila)\n",
      "  Using cached rfc3339_validator-0.1.4-py2.py3-none-any.whl.metadata (1.5 kB)\n",
      "Collecting rfc3986-validator>=0.1.1 (from jupyter-events>=0.11.0->jupyter-server<3,>=1.18->voila)\n",
      "  Using cached rfc3986_validator-0.1.1-py2.py3-none-any.whl.metadata (1.7 kB)\n",
      "Collecting fqdn (from jsonschema[format-nongpl]>=4.18.0->jupyter-events>=0.11.0->jupyter-server<3,>=1.18->voila)\n",
      "  Using cached fqdn-1.5.1-py3-none-any.whl.metadata (1.4 kB)\n",
      "Collecting isoduration (from jsonschema[format-nongpl]>=4.18.0->jupyter-events>=0.11.0->jupyter-server<3,>=1.18->voila)\n",
      "  Using cached isoduration-20.11.0-py3-none-any.whl.metadata (5.7 kB)\n",
      "Collecting jsonpointer>1.13 (from jsonschema[format-nongpl]>=4.18.0->jupyter-events>=0.11.0->jupyter-server<3,>=1.18->voila)\n",
      "  Using cached jsonpointer-3.0.0-py2.py3-none-any.whl.metadata (2.3 kB)\n",
      "Collecting rfc3987-syntax>=1.1.0 (from jsonschema[format-nongpl]>=4.18.0->jupyter-events>=0.11.0->jupyter-server<3,>=1.18->voila)\n",
      "  Downloading rfc3987_syntax-1.1.0-py3-none-any.whl.metadata (7.7 kB)\n",
      "Collecting uri-template (from jsonschema[format-nongpl]>=4.18.0->jupyter-events>=0.11.0->jupyter-server<3,>=1.18->voila)\n",
      "  Using cached uri_template-1.3.0-py3-none-any.whl.metadata (8.8 kB)\n",
      "Collecting webcolors>=24.6.0 (from jsonschema[format-nongpl]>=4.18.0->jupyter-events>=0.11.0->jupyter-server<3,>=1.18->voila)\n",
      "  Using cached webcolors-24.11.1-py3-none-any.whl.metadata (2.2 kB)\n",
      "Collecting fastjsonschema>=2.15 (from nbformat>=5.3.0->jupyter-server<3,>=1.18->voila)\n",
      "  Using cached fastjsonschema-2.21.1-py3-none-any.whl.metadata (2.2 kB)\n",
      "Requirement already satisfied: six>=1.5 in c:\\users\\moham\\appdata\\local\\programs\\python\\python311\\lib\\site-packages (from python-dateutil>=2.8.2->jupyter-client<9,>=7.4.4->voila) (1.17.0)\n",
      "Requirement already satisfied: charset_normalizer<4,>=2 in c:\\users\\moham\\appdata\\local\\programs\\python\\python311\\lib\\site-packages (from requests>=2.31->jupyterlab-server<3,>=2.3.0->voila) (3.4.2)\n",
      "Requirement already satisfied: urllib3<3,>=1.21.1 in c:\\users\\moham\\appdata\\local\\programs\\python\\python311\\lib\\site-packages (from requests>=2.31->jupyterlab-server<3,>=2.3.0->voila) (2.5.0)\n",
      "Requirement already satisfied: certifi>=2017.4.17 in c:\\users\\moham\\appdata\\local\\programs\\python\\python311\\lib\\site-packages (from requests>=2.31->jupyterlab-server<3,>=2.3.0->voila) (2025.6.15)\n",
      "Collecting lark>=1.2.2 (from rfc3987-syntax>=1.1.0->jsonschema[format-nongpl]>=4.18.0->jupyter-events>=0.11.0->jupyter-server<3,>=1.18->voila)\n",
      "  Downloading lark-1.2.2-py3-none-any.whl.metadata (1.8 kB)\n",
      "Collecting cffi>=1.0.1 (from argon2-cffi-bindings->argon2-cffi>=21.1->jupyter-server<3,>=1.18->voila)\n",
      "  Downloading cffi-1.17.1-cp311-cp311-win_amd64.whl.metadata (1.6 kB)\n",
      "Collecting pycparser (from cffi>=1.0.1->argon2-cffi-bindings->argon2-cffi>=21.1->jupyter-server<3,>=1.18->voila)\n",
      "  Using cached pycparser-2.22-py3-none-any.whl.metadata (943 bytes)\n",
      "Collecting soupsieve>1.2 (from beautifulsoup4->nbconvert<8,>=6.4.5->voila)\n",
      "  Downloading soupsieve-2.7-py3-none-any.whl.metadata (4.6 kB)\n",
      "Collecting arrow>=0.15.0 (from isoduration->jsonschema[format-nongpl]>=4.18.0->jupyter-events>=0.11.0->jupyter-server<3,>=1.18->voila)\n",
      "  Using cached arrow-1.3.0-py3-none-any.whl.metadata (7.5 kB)\n",
      "Collecting types-python-dateutil>=2.8.10 (from arrow>=0.15.0->isoduration->jsonschema[format-nongpl]>=4.18.0->jupyter-events>=0.11.0->jupyter-server<3,>=1.18->voila)\n",
      "  Downloading types_python_dateutil-2.9.0.20250708-py3-none-any.whl.metadata (1.9 kB)\n",
      "Using cached voila-0.5.8-py3-none-any.whl (4.5 MB)\n",
      "Using cached jupyter_client-8.6.3-py3-none-any.whl (106 kB)\n",
      "Downloading jupyter_server-2.16.0-py3-none-any.whl (386 kB)\n",
      "Using cached jupyterlab_server-2.27.3-py3-none-any.whl (59 kB)\n",
      "Downloading nbconvert-7.16.6-py3-none-any.whl (258 kB)\n",
      "Downloading mistune-3.1.3-py3-none-any.whl (53 kB)\n",
      "Using cached traitlets-5.14.3-py3-none-any.whl (85 kB)\n",
      "Downloading anyio-4.9.0-py3-none-any.whl (100 kB)\n",
      "Downloading argon2_cffi-25.1.0-py3-none-any.whl (14 kB)\n",
      "Downloading babel-2.17.0-py3-none-any.whl (10.2 MB)\n",
      "   ---------------------------------------- 0.0/10.2 MB ? eta -:--:--\n",
      "   - -------------------------------------- 0.3/10.2 MB ? eta -:--:--\n",
      "   -- ------------------------------------- 0.5/10.2 MB 1.9 MB/s eta 0:00:06\n",
      "   ---- ----------------------------------- 1.0/10.2 MB 1.7 MB/s eta 0:00:06\n",
      "   ----- ---------------------------------- 1.3/10.2 MB 1.7 MB/s eta 0:00:06\n",
      "   ------ --------------------------------- 1.6/10.2 MB 1.7 MB/s eta 0:00:06\n",
      "   -------- ------------------------------- 2.1/10.2 MB 1.7 MB/s eta 0:00:05\n",
      "   --------- ------------------------------ 2.4/10.2 MB 1.6 MB/s eta 0:00:05\n",
      "   ---------- ----------------------------- 2.6/10.2 MB 1.7 MB/s eta 0:00:05\n",
      "   ------------ --------------------------- 3.1/10.2 MB 1.7 MB/s eta 0:00:05\n",
      "   ------------- -------------------------- 3.4/10.2 MB 1.7 MB/s eta 0:00:05\n",
      "   --------------- ------------------------ 3.9/10.2 MB 1.7 MB/s eta 0:00:04\n",
      "   --------------- ------------------------ 3.9/10.2 MB 1.7 MB/s eta 0:00:04\n",
      "   ----------------- ---------------------- 4.5/10.2 MB 1.7 MB/s eta 0:00:04\n",
      "   ------------------ --------------------- 4.7/10.2 MB 1.6 MB/s eta 0:00:04\n",
      "   ------------------ --------------------- 4.7/10.2 MB 1.6 MB/s eta 0:00:04\n",
      "   ------------------- -------------------- 5.0/10.2 MB 1.5 MB/s eta 0:00:04\n",
      "   ------------------- -------------------- 5.0/10.2 MB 1.5 MB/s eta 0:00:04\n",
      "   -------------------- ------------------- 5.2/10.2 MB 1.4 MB/s eta 0:00:04\n",
      "   -------------------- ------------------- 5.2/10.2 MB 1.4 MB/s eta 0:00:04\n",
      "   --------------------- ------------------ 5.5/10.2 MB 1.3 MB/s eta 0:00:04\n",
      "   --------------------- ------------------ 5.5/10.2 MB 1.3 MB/s eta 0:00:04\n",
      "   --------------------- ------------------ 5.5/10.2 MB 1.3 MB/s eta 0:00:04\n",
      "   ---------------------- ----------------- 5.8/10.2 MB 1.2 MB/s eta 0:00:04\n",
      "   ---------------------- ----------------- 5.8/10.2 MB 1.2 MB/s eta 0:00:04\n",
      "   ----------------------- ---------------- 6.0/10.2 MB 1.1 MB/s eta 0:00:04\n",
      "   ----------------------- ---------------- 6.0/10.2 MB 1.1 MB/s eta 0:00:04\n",
      "   ----------------------- ---------------- 6.0/10.2 MB 1.1 MB/s eta 0:00:04\n",
      "   ------------------------ --------------- 6.3/10.2 MB 1.1 MB/s eta 0:00:04\n",
      "   ------------------------ --------------- 6.3/10.2 MB 1.1 MB/s eta 0:00:04\n",
      "   ------------------------- -------------- 6.6/10.2 MB 1.0 MB/s eta 0:00:04\n",
      "   ------------------------- -------------- 6.6/10.2 MB 1.0 MB/s eta 0:00:04\n",
      "   ------------------------- -------------- 6.6/10.2 MB 1.0 MB/s eta 0:00:04\n",
      "   -------------------------- ------------- 6.8/10.2 MB 977.7 kB/s eta 0:00:04\n",
      "   -------------------------- ------------- 6.8/10.2 MB 977.7 kB/s eta 0:00:04\n",
      "   --------------------------- ------------ 7.1/10.2 MB 932.0 kB/s eta 0:00:04\n",
      "   --------------------------- ------------ 7.1/10.2 MB 932.0 kB/s eta 0:00:04\n",
      "   --------------------------- ------------ 7.1/10.2 MB 932.0 kB/s eta 0:00:04\n",
      "   ---------------------------- ----------- 7.3/10.2 MB 893.4 kB/s eta 0:00:04\n",
      "   ---------------------------- ----------- 7.3/10.2 MB 893.4 kB/s eta 0:00:04\n",
      "   ---------------------------- ----------- 7.3/10.2 MB 893.4 kB/s eta 0:00:04\n",
      "   ---------------------------- ----------- 7.3/10.2 MB 893.4 kB/s eta 0:00:04\n",
      "   ----------------------------- ---------- 7.6/10.2 MB 848.0 kB/s eta 0:00:04\n",
      "   ----------------------------- ---------- 7.6/10.2 MB 848.0 kB/s eta 0:00:04\n",
      "   ------------------------------ --------- 7.9/10.2 MB 830.3 kB/s eta 0:00:03\n",
      "   ------------------------------ --------- 7.9/10.2 MB 830.3 kB/s eta 0:00:03\n",
      "   ------------------------------- -------- 8.1/10.2 MB 818.3 kB/s eta 0:00:03\n",
      "   ------------------------------- -------- 8.1/10.2 MB 818.3 kB/s eta 0:00:03\n",
      "   -------------------------------- ------- 8.4/10.2 MB 810.1 kB/s eta 0:00:03\n",
      "   -------------------------------- ------- 8.4/10.2 MB 810.1 kB/s eta 0:00:03\n",
      "   --------------------------------- ------ 8.7/10.2 MB 802.5 kB/s eta 0:00:02\n",
      "   --------------------------------- ------ 8.7/10.2 MB 802.5 kB/s eta 0:00:02\n",
      "   ----------------------------------- ---- 8.9/10.2 MB 798.9 kB/s eta 0:00:02\n",
      "   ------------------------------------ --- 9.2/10.2 MB 795.6 kB/s eta 0:00:02\n",
      "   ------------------------------------ --- 9.2/10.2 MB 795.6 kB/s eta 0:00:02\n",
      "   ------------------------------------- -- 9.4/10.2 MB 793.5 kB/s eta 0:00:01\n",
      "   ------------------------------------- -- 9.4/10.2 MB 793.5 kB/s eta 0:00:01\n",
      "   -------------------------------------- - 9.7/10.2 MB 791.6 kB/s eta 0:00:01\n",
      "   ---------------------------------------  10.0/10.2 MB 792.8 kB/s eta 0:00:01\n",
      "   ---------------------------------------  10.0/10.2 MB 792.8 kB/s eta 0:00:01\n",
      "   ---------------------------------------- 10.2/10.2 MB 787.7 kB/s eta 0:00:00\n",
      "Using cached bleach-6.2.0-py3-none-any.whl (163 kB)\n",
      "Using cached tinycss2-1.4.0-py3-none-any.whl (26 kB)\n",
      "Downloading jinja2-3.1.6-py3-none-any.whl (134 kB)\n",
      "Downloading json5-0.12.0-py3-none-any.whl (36 kB)\n",
      "Downloading jsonschema-4.25.0-py3-none-any.whl (89 kB)\n",
      "Downloading attrs-25.3.0-py3-none-any.whl (63 kB)\n",
      "Downloading jsonschema_specifications-2025.4.1-py3-none-any.whl (18 kB)\n",
      "Downloading jupyter_core-5.8.1-py3-none-any.whl (28 kB)\n",
      "Downloading jupyter_events-0.12.0-py3-none-any.whl (19 kB)\n",
      "Using cached jsonpointer-3.0.0-py2.py3-none-any.whl (7.6 kB)\n",
      "Using cached jupyter_server_terminals-0.5.3-py3-none-any.whl (13 kB)\n",
      "Using cached nbclient-0.10.2-py3-none-any.whl (25 kB)\n",
      "Using cached nbformat-5.10.4-py3-none-any.whl (78 kB)\n",
      "Using cached fastjsonschema-2.21.1-py3-none-any.whl (23 kB)\n",
      "Using cached overrides-7.7.0-py3-none-any.whl (17 kB)\n",
      "Using cached pandocfilters-1.5.1-py2.py3-none-any.whl (8.7 kB)\n",
      "Downloading platformdirs-4.3.8-py3-none-any.whl (18 kB)\n",
      "Downloading prometheus_client-0.22.1-py3-none-any.whl (58 kB)\n",
      "Downloading python_json_logger-3.3.0-py3-none-any.whl (15 kB)\n",
      "Downloading pywin32-311-cp311-cp311-win_amd64.whl (9.5 MB)\n",
      "   ---------------------------------------- 0.0/9.5 MB ? eta -:--:--\n",
      "   ---------------------------------------- 0.0/9.5 MB ? eta -:--:--\n",
      "   - -------------------------------------- 0.3/9.5 MB ? eta -:--:--\n",
      "   - -------------------------------------- 0.3/9.5 MB ? eta -:--:--\n",
      "   -- ------------------------------------- 0.5/9.5 MB 699.0 kB/s eta 0:00:13\n",
      "   -- ------------------------------------- 0.5/9.5 MB 699.0 kB/s eta 0:00:13\n",
      "   --- ------------------------------------ 0.8/9.5 MB 729.2 kB/s eta 0:00:12\n",
      "   ---- ----------------------------------- 1.0/9.5 MB 740.5 kB/s eta 0:00:12\n",
      "   ---- ----------------------------------- 1.0/9.5 MB 740.5 kB/s eta 0:00:12\n",
      "   ----- ---------------------------------- 1.3/9.5 MB 729.7 kB/s eta 0:00:12\n",
      "   ----- ---------------------------------- 1.3/9.5 MB 729.7 kB/s eta 0:00:12\n",
      "   ------ --------------------------------- 1.6/9.5 MB 699.0 kB/s eta 0:00:12\n",
      "   ------ --------------------------------- 1.6/9.5 MB 699.0 kB/s eta 0:00:12\n",
      "   ------- -------------------------------- 1.8/9.5 MB 684.7 kB/s eta 0:00:12\n",
      "   ------- -------------------------------- 1.8/9.5 MB 684.7 kB/s eta 0:00:12\n",
      "   ------- -------------------------------- 1.8/9.5 MB 684.7 kB/s eta 0:00:12\n",
      "   -------- ------------------------------- 2.1/9.5 MB 652.6 kB/s eta 0:00:12\n",
      "   -------- ------------------------------- 2.1/9.5 MB 652.6 kB/s eta 0:00:12\n",
      "   --------- ------------------------------ 2.4/9.5 MB 636.1 kB/s eta 0:00:12\n",
      "   --------- ------------------------------ 2.4/9.5 MB 636.1 kB/s eta 0:00:12\n",
      "   ----------- ---------------------------- 2.6/9.5 MB 629.1 kB/s eta 0:00:11\n",
      "   ----------- ---------------------------- 2.6/9.5 MB 629.1 kB/s eta 0:00:11\n",
      "   ------------ --------------------------- 2.9/9.5 MB 628.3 kB/s eta 0:00:11\n",
      "   ------------ --------------------------- 2.9/9.5 MB 628.3 kB/s eta 0:00:11\n",
      "   ------------- -------------------------- 3.1/9.5 MB 625.6 kB/s eta 0:00:11\n",
      "   ------------- -------------------------- 3.1/9.5 MB 625.6 kB/s eta 0:00:11\n",
      "   -------------- ------------------------- 3.4/9.5 MB 631.2 kB/s eta 0:00:10\n",
      "   -------------- ------------------------- 3.4/9.5 MB 631.2 kB/s eta 0:00:10\n",
      "   --------------- ------------------------ 3.7/9.5 MB 630.4 kB/s eta 0:00:10\n",
      "   --------------- ------------------------ 3.7/9.5 MB 630.4 kB/s eta 0:00:10\n",
      "   ---------------- ----------------------- 3.9/9.5 MB 619.7 kB/s eta 0:00:09\n",
      "   ---------------- ----------------------- 3.9/9.5 MB 619.7 kB/s eta 0:00:09\n",
      "   ----------------- ---------------------- 4.2/9.5 MB 626.0 kB/s eta 0:00:09\n",
      "   ------------------ --------------------- 4.5/9.5 MB 633.1 kB/s eta 0:00:08\n",
      "   ------------------ --------------------- 4.5/9.5 MB 633.1 kB/s eta 0:00:08\n",
      "   ------------------- -------------------- 4.7/9.5 MB 640.9 kB/s eta 0:00:08\n",
      "   -------------------- ------------------- 5.0/9.5 MB 650.8 kB/s eta 0:00:07\n",
      "   -------------------- ------------------- 5.0/9.5 MB 650.8 kB/s eta 0:00:07\n",
      "   ---------------------- ----------------- 5.2/9.5 MB 658.7 kB/s eta 0:00:07\n",
      "   ----------------------- ---------------- 5.5/9.5 MB 667.1 kB/s eta 0:00:07\n",
      "   ----------------------- ---------------- 5.5/9.5 MB 667.1 kB/s eta 0:00:07\n",
      "   ------------------------ --------------- 5.8/9.5 MB 672.4 kB/s eta 0:00:06\n",
      "   ------------------------- -------------- 6.0/9.5 MB 679.8 kB/s eta 0:00:06\n",
      "   -------------------------- ------------- 6.3/9.5 MB 689.1 kB/s eta 0:00:05\n",
      "   -------------------------- ------------- 6.3/9.5 MB 689.1 kB/s eta 0:00:05\n",
      "   --------------------------- ------------ 6.6/9.5 MB 697.8 kB/s eta 0:00:05\n",
      "   ---------------------------- ----------- 6.8/9.5 MB 706.1 kB/s eta 0:00:04\n",
      "   ----------------------------- ---------- 7.1/9.5 MB 716.2 kB/s eta 0:00:04\n",
      "   ------------------------------ --------- 7.3/9.5 MB 723.6 kB/s eta 0:00:03\n",
      "   ------------------------------- -------- 7.6/9.5 MB 734.0 kB/s eta 0:00:03\n",
      "   --------------------------------- ------ 7.9/9.5 MB 743.9 kB/s eta 0:00:03\n",
      "   ---------------------------------- ----- 8.1/9.5 MB 756.8 kB/s eta 0:00:02\n",
      "   ----------------------------------- ---- 8.4/9.5 MB 769.4 kB/s eta 0:00:02\n",
      "   ------------------------------------ --- 8.7/9.5 MB 781.5 kB/s eta 0:00:02\n",
      "   -------------------------------------- - 9.2/9.5 MB 805.7 kB/s eta 0:00:01\n",
      "   ---------------------------------------  9.4/9.5 MB 816.7 kB/s eta 0:00:01\n",
      "   ---------------------------------------- 9.5/9.5 MB 815.1 kB/s eta 0:00:00\n",
      "Downloading pywinpty-2.0.15-cp311-cp311-win_amd64.whl (1.4 MB)\n",
      "   ---------------------------------------- 0.0/1.4 MB ? eta -:--:--\n",
      "   ------- -------------------------------- 0.3/1.4 MB ? eta -:--:--\n",
      "   -------------- ------------------------- 0.5/1.4 MB 1.4 MB/s eta 0:00:01\n",
      "   ---------------------- ----------------- 0.8/1.4 MB 1.7 MB/s eta 0:00:01\n",
      "   ------------------------------------- -- 1.3/1.4 MB 1.6 MB/s eta 0:00:01\n",
      "   ---------------------------------------- 1.4/1.4 MB 1.5 MB/s eta 0:00:00\n",
      "Downloading PyYAML-6.0.2-cp311-cp311-win_amd64.whl (161 kB)\n",
      "Downloading pyzmq-27.0.0-cp311-cp311-win_amd64.whl (630 kB)\n",
      "   ---------------------------------------- 0.0/630.3 kB ? eta -:--:--\n",
      "   ---------------- ----------------------- 262.1/630.3 kB ? eta -:--:--\n",
      "   ---------------------------------------- 630.3/630.3 kB 1.5 MB/s eta 0:00:00\n",
      "Downloading referencing-0.36.2-py3-none-any.whl (26 kB)\n",
      "Using cached rfc3986_validator-0.1.1-py2.py3-none-any.whl (4.2 kB)\n",
      "Downloading rfc3987_syntax-1.1.0-py3-none-any.whl (8.0 kB)\n",
      "Downloading lark-1.2.2-py3-none-any.whl (111 kB)\n",
      "Downloading rpds_py-0.26.0-cp311-cp311-win_amd64.whl (231 kB)\n",
      "Using cached Send2Trash-1.8.3-py3-none-any.whl (18 kB)\n",
      "Using cached sniffio-1.3.1-py3-none-any.whl (10 kB)\n",
      "Using cached terminado-0.18.1-py3-none-any.whl (14 kB)\n",
      "Downloading tornado-6.5.1-cp39-abi3-win_amd64.whl (444 kB)\n",
      "Using cached webcolors-24.11.1-py3-none-any.whl (14 kB)\n",
      "Using cached webencodings-0.5.1-py2.py3-none-any.whl (11 kB)\n",
      "Using cached websocket_client-1.8.0-py3-none-any.whl (58 kB)\n",
      "Downloading websockets-15.0.1-cp311-cp311-win_amd64.whl (176 kB)\n",
      "Using cached argon2_cffi_bindings-21.2.0-cp36-abi3-win_amd64.whl (30 kB)\n",
      "Downloading cffi-1.17.1-cp311-cp311-win_amd64.whl (181 kB)\n",
      "Downloading beautifulsoup4-4.13.4-py3-none-any.whl (187 kB)\n",
      "Downloading soupsieve-2.7-py3-none-any.whl (36 kB)\n",
      "Using cached defusedxml-0.7.1-py2.py3-none-any.whl (25 kB)\n",
      "Using cached fqdn-1.5.1-py3-none-any.whl (9.1 kB)\n",
      "Using cached isoduration-20.11.0-py3-none-any.whl (11 kB)\n",
      "Using cached arrow-1.3.0-py3-none-any.whl (66 kB)\n",
      "Downloading types_python_dateutil-2.9.0.20250708-py3-none-any.whl (17 kB)\n",
      "Using cached jupyterlab_pygments-0.3.0-py3-none-any.whl (15 kB)\n",
      "Using cached pycparser-2.22-py3-none-any.whl (117 kB)\n",
      "Using cached rfc3339_validator-0.1.4-py2.py3-none-any.whl (3.5 kB)\n",
      "Using cached uri_template-1.3.0-py3-none-any.whl (11 kB)\n",
      "Installing collected packages: webencodings, pywin32, fastjsonschema, websockets, websocket-client, webcolors, uri-template, types-python-dateutil, traitlets, tornado, tinycss2, soupsieve, sniffio, send2trash, rpds-py, rfc3986-validator, rfc3339-validator, pyzmq, pyyaml, pywinpty, python-json-logger, pycparser, prometheus-client, platformdirs, pandocfilters, overrides, mistune, lark, jupyterlab-pygments, jsonpointer, json5, jinja2, fqdn, defusedxml, bleach, babel, attrs, terminado, rfc3987-syntax, referencing, jupyter-core, cffi, beautifulsoup4, arrow, anyio, jupyter-server-terminals, jupyter-client, jsonschema-specifications, isoduration, argon2-cffi-bindings, jsonschema, argon2-cffi, nbformat, nbclient, jupyter-events, nbconvert, jupyter-server, jupyterlab-server, voila\n",
      "\n",
      "    ---------------------------------------  1/59 [pywin32]\n",
      "    ---------------------------------------  1/59 [pywin32]\n",
      "    ---------------------------------------  1/59 [pywin32]\n",
      "    ---------------------------------------  1/59 [pywin32]\n",
      "    ---------------------------------------  1/59 [pywin32]\n",
      "    ---------------------------------------  1/59 [pywin32]\n",
      "    ---------------------------------------  1/59 [pywin32]\n",
      "    ---------------------------------------  1/59 [pywin32]\n",
      "    ---------------------------------------  1/59 [pywin32]\n",
      "    ---------------------------------------  1/59 [pywin32]\n",
      "    ---------------------------------------  1/59 [pywin32]\n",
      "    ---------------------------------------  1/59 [pywin32]\n",
      "    ---------------------------------------  1/59 [pywin32]\n",
      "    ---------------------------------------  1/59 [pywin32]\n",
      "    ---------------------------------------  1/59 [pywin32]\n",
      "    ---------------------------------------  1/59 [pywin32]\n",
      "    ---------------------------------------  1/59 [pywin32]\n",
      "    ---------------------------------------  1/59 [pywin32]\n",
      "    ---------------------------------------  1/59 [pywin32]\n",
      "    ---------------------------------------  1/59 [pywin32]\n",
      "    ---------------------------------------  1/59 [pywin32]\n",
      "    ---------------------------------------  1/59 [pywin32]\n",
      "    ---------------------------------------  1/59 [pywin32]\n",
      "    ---------------------------------------  1/59 [pywin32]\n",
      "    ---------------------------------------  1/59 [pywin32]\n",
      "    ---------------------------------------  1/59 [pywin32]\n",
      "    ---------------------------------------  1/59 [pywin32]\n",
      "    ---------------------------------------  1/59 [pywin32]\n",
      "    ---------------------------------------  1/59 [pywin32]\n",
      "    ---------------------------------------  1/59 [pywin32]\n",
      "    ---------------------------------------  1/59 [pywin32]\n",
      "    ---------------------------------------  1/59 [pywin32]\n",
      "    ---------------------------------------  1/59 [pywin32]\n",
      "    ---------------------------------------  1/59 [pywin32]\n",
      "    ---------------------------------------  1/59 [pywin32]\n",
      "    ---------------------------------------  1/59 [pywin32]\n",
      "    ---------------------------------------  1/59 [pywin32]\n",
      "    ---------------------------------------  1/59 [pywin32]\n",
      "    ---------------------------------------  1/59 [pywin32]\n",
      "    ---------------------------------------  1/59 [pywin32]\n",
      "    ---------------------------------------  1/59 [pywin32]\n",
      "    ---------------------------------------  1/59 [pywin32]\n",
      "    ---------------------------------------  1/59 [pywin32]\n",
      "    ---------------------------------------  1/59 [pywin32]\n",
      "    ---------------------------------------  1/59 [pywin32]\n",
      "    ---------------------------------------  1/59 [pywin32]\n",
      "    ---------------------------------------  1/59 [pywin32]\n",
      "    ---------------------------------------  1/59 [pywin32]\n",
      "    ---------------------------------------  1/59 [pywin32]\n",
      "    ---------------------------------------  1/59 [pywin32]\n",
      "    ---------------------------------------  1/59 [pywin32]\n",
      "    ---------------------------------------  1/59 [pywin32]\n",
      "    ---------------------------------------  1/59 [pywin32]\n",
      "    ---------------------------------------  1/59 [pywin32]\n",
      "    ---------------------------------------  1/59 [pywin32]\n",
      "    ---------------------------------------  1/59 [pywin32]\n",
      "    ---------------------------------------  1/59 [pywin32]\n",
      "    ---------------------------------------  1/59 [pywin32]\n",
      "    ---------------------------------------  1/59 [pywin32]\n",
      "    ---------------------------------------  1/59 [pywin32]\n",
      "    ---------------------------------------  1/59 [pywin32]\n",
      "    ---------------------------------------  1/59 [pywin32]\n",
      "    ---------------------------------------  1/59 [pywin32]\n",
      "    ---------------------------------------  1/59 [pywin32]\n",
      "    ---------------------------------------  1/59 [pywin32]\n",
      "    ---------------------------------------  1/59 [pywin32]\n",
      "   - --------------------------------------  2/59 [fastjsonschema]\n",
      "   -- -------------------------------------  3/59 [websockets]\n",
      "   -- -------------------------------------  3/59 [websockets]\n",
      "   -- -------------------------------------  3/59 [websockets]\n",
      "   -- -------------------------------------  3/59 [websockets]\n",
      "   -- -------------------------------------  3/59 [websockets]\n",
      "   -- -------------------------------------  3/59 [websockets]\n",
      "   -- -------------------------------------  4/59 [websocket-client]\n",
      "   -- -------------------------------------  4/59 [websocket-client]\n",
      "   -- -------------------------------------  4/59 [websocket-client]\n",
      "   --- ------------------------------------  5/59 [webcolors]\n",
      "   ---- -----------------------------------  6/59 [uri-template]\n",
      "   ----- ----------------------------------  8/59 [traitlets]\n",
      "   ----- ----------------------------------  8/59 [traitlets]\n",
      "   ----- ----------------------------------  8/59 [traitlets]\n",
      "   ------ ---------------------------------  9/59 [tornado]\n",
      "   ------ ---------------------------------  9/59 [tornado]\n",
      "   ------ ---------------------------------  9/59 [tornado]\n",
      "   ------ ---------------------------------  9/59 [tornado]\n",
      "   ------ ---------------------------------  9/59 [tornado]\n",
      "   ------ ---------------------------------  9/59 [tornado]\n",
      "   ------ ---------------------------------  9/59 [tornado]\n",
      "   ------ ---------------------------------  9/59 [tornado]\n",
      "   ------ ---------------------------------  9/59 [tornado]\n",
      "   ------ ---------------------------------  9/59 [tornado]\n",
      "   ------ ---------------------------------  9/59 [tornado]\n",
      "   ------ ---------------------------------  9/59 [tornado]\n",
      "   ------ --------------------------------- 10/59 [tinycss2]\n",
      "   ------- -------------------------------- 11/59 [soupsieve]\n",
      "   -------- ------------------------------- 12/59 [sniffio]\n",
      "   -------- ------------------------------- 13/59 [send2trash]\n",
      "   -------- ------------------------------- 13/59 [send2trash]\n",
      "   ---------- ----------------------------- 16/59 [rfc3339-validator]\n",
      "   ----------- ---------------------------- 17/59 [pyzmq]\n",
      "   ----------- ---------------------------- 17/59 [pyzmq]\n",
      "   ----------- ---------------------------- 17/59 [pyzmq]\n",
      "   ----------- ---------------------------- 17/59 [pyzmq]\n",
      "   ----------- ---------------------------- 17/59 [pyzmq]\n",
      "   ----------- ---------------------------- 17/59 [pyzmq]\n",
      "   ----------- ---------------------------- 17/59 [pyzmq]\n",
      "   ------------ --------------------------- 18/59 [pyyaml]\n",
      "   ------------ --------------------------- 18/59 [pyyaml]\n",
      "   ------------ --------------------------- 18/59 [pyyaml]\n",
      "   ------------ --------------------------- 19/59 [pywinpty]\n",
      "   ------------- -------------------------- 20/59 [python-json-logger]\n",
      "   -------------- ------------------------- 21/59 [pycparser]\n",
      "   -------------- ------------------------- 21/59 [pycparser]\n",
      "   -------------- ------------------------- 21/59 [pycparser]\n",
      "   -------------- ------------------------- 22/59 [prometheus-client]\n",
      "   -------------- ------------------------- 22/59 [prometheus-client]\n",
      "   --------------- ------------------------ 23/59 [platformdirs]\n",
      "   ---------------- ----------------------- 24/59 [pandocfilters]\n",
      "   ----------------- ---------------------- 26/59 [mistune]\n",
      "   ----------------- ---------------------- 26/59 [mistune]\n",
      "   ----------------- ---------------------- 26/59 [mistune]\n",
      "   ----------------- ---------------------- 26/59 [mistune]\n",
      "   ----------------- ---------------------- 26/59 [mistune]\n",
      "   ------------------ --------------------- 27/59 [lark]\n",
      "   ------------------ --------------------- 27/59 [lark]\n",
      "   ------------------ --------------------- 27/59 [lark]\n",
      "   ------------------ --------------------- 27/59 [lark]\n",
      "   ------------------ --------------------- 27/59 [lark]\n",
      "   ------------------- -------------------- 29/59 [jsonpointer]\n",
      "   -------------------- ------------------- 30/59 [json5]\n",
      "   --------------------- ------------------ 31/59 [jinja2]\n",
      "   --------------------- ------------------ 31/59 [jinja2]\n",
      "   --------------------- ------------------ 31/59 [jinja2]\n",
      "   --------------------- ------------------ 31/59 [jinja2]\n",
      "   ---------------------- ----------------- 33/59 [defusedxml]\n",
      "   ----------------------- ---------------- 34/59 [bleach]\n",
      "   ----------------------- ---------------- 34/59 [bleach]\n",
      "   ----------------------- ---------------- 34/59 [bleach]\n",
      "   ----------------------- ---------------- 34/59 [bleach]\n",
      "   ----------------------- ---------------- 34/59 [bleach]\n",
      "   ----------------------- ---------------- 34/59 [bleach]\n",
      "   ----------------------- ---------------- 35/59 [babel]\n",
      "   ----------------------- ---------------- 35/59 [babel]\n",
      "   ----------------------- ---------------- 35/59 [babel]\n",
      "   ----------------------- ---------------- 35/59 [babel]\n",
      "   ----------------------- ---------------- 35/59 [babel]\n",
      "   ----------------------- ---------------- 35/59 [babel]\n",
      "   ----------------------- ---------------- 35/59 [babel]\n",
      "   ----------------------- ---------------- 35/59 [babel]\n",
      "   ----------------------- ---------------- 35/59 [babel]\n",
      "   ----------------------- ---------------- 35/59 [babel]\n",
      "   ----------------------- ---------------- 35/59 [babel]\n",
      "   ----------------------- ---------------- 35/59 [babel]\n",
      "   ----------------------- ---------------- 35/59 [babel]\n",
      "   ----------------------- ---------------- 35/59 [babel]\n",
      "   ------------------------ --------------- 36/59 [attrs]\n",
      "   ------------------------ --------------- 36/59 [attrs]\n",
      "   ------------------------ --------------- 36/59 [attrs]\n",
      "   ------------------------ --------------- 36/59 [attrs]\n",
      "   ------------------------- -------------- 38/59 [rfc3987-syntax]\n",
      "   -------------------------- ------------- 39/59 [referencing]\n",
      "   -------------------------- ------------- 39/59 [referencing]\n",
      "   --------------------------- ------------ 40/59 [jupyter-core]\n",
      "   --------------------------- ------------ 40/59 [jupyter-core]\n",
      "   --------------------------- ------------ 40/59 [jupyter-core]\n",
      "   --------------------------- ------------ 40/59 [jupyter-core]\n",
      "   --------------------------- ------------ 40/59 [jupyter-core]\n",
      "   --------------------------- ------------ 41/59 [cffi]\n",
      "   --------------------------- ------------ 41/59 [cffi]\n",
      "   --------------------------- ------------ 41/59 [cffi]\n",
      "   ---------------------------- ----------- 42/59 [beautifulsoup4]\n",
      "   ---------------------------- ----------- 42/59 [beautifulsoup4]\n",
      "   ---------------------------- ----------- 42/59 [beautifulsoup4]\n",
      "   ---------------------------- ----------- 42/59 [beautifulsoup4]\n",
      "   ---------------------------- ----------- 42/59 [beautifulsoup4]\n",
      "   ---------------------------- ----------- 42/59 [beautifulsoup4]\n",
      "   ---------------------------- ----------- 42/59 [beautifulsoup4]\n",
      "   ----------------------------- ---------- 43/59 [arrow]\n",
      "   ----------------------------- ---------- 43/59 [arrow]\n",
      "   ----------------------------- ---------- 44/59 [anyio]\n",
      "   ----------------------------- ---------- 44/59 [anyio]\n",
      "   ----------------------------- ---------- 44/59 [anyio]\n",
      "   ----------------------------- ---------- 44/59 [anyio]\n",
      "   ----------------------------- ---------- 44/59 [anyio]\n",
      "   ----------------------------- ---------- 44/59 [anyio]\n",
      "   ----------------------------- ---------- 44/59 [anyio]\n",
      "   ----------------------------- ---------- 44/59 [anyio]\n",
      "   ------------------------------- -------- 46/59 [jupyter-client]\n",
      "   ------------------------------- -------- 46/59 [jupyter-client]\n",
      "   ------------------------------- -------- 46/59 [jupyter-client]\n",
      "   ------------------------------- -------- 46/59 [jupyter-client]\n",
      "   ------------------------------- -------- 46/59 [jupyter-client]\n",
      "   ------------------------------- -------- 46/59 [jupyter-client]\n",
      "   ------------------------------- -------- 46/59 [jupyter-client]\n",
      "   -------------------------------- ------- 48/59 [isoduration]\n",
      "   -------------------------------- ------- 48/59 [isoduration]\n",
      "   --------------------------------- ------ 50/59 [jsonschema]\n",
      "   --------------------------------- ------ 50/59 [jsonschema]\n",
      "   --------------------------------- ------ 50/59 [jsonschema]\n",
      "   --------------------------------- ------ 50/59 [jsonschema]\n",
      "   --------------------------------- ------ 50/59 [jsonschema]\n",
      "   ---------------------------------- ----- 51/59 [argon2-cffi]\n",
      "   ----------------------------------- ---- 52/59 [nbformat]\n",
      "   ----------------------------------- ---- 52/59 [nbformat]\n",
      "   ----------------------------------- ---- 52/59 [nbformat]\n",
      "   ----------------------------------- ---- 52/59 [nbformat]\n",
      "   ----------------------------------- ---- 52/59 [nbformat]\n",
      "   ----------------------------------- ---- 53/59 [nbclient]\n",
      "   ------------------------------------ --- 54/59 [jupyter-events]\n",
      "   ------------------------------------ --- 54/59 [jupyter-events]\n",
      "   ------------------------------------- -- 55/59 [nbconvert]\n",
      "   ------------------------------------- -- 55/59 [nbconvert]\n",
      "   ------------------------------------- -- 55/59 [nbconvert]\n",
      "   ------------------------------------- -- 55/59 [nbconvert]\n",
      "   ------------------------------------- -- 55/59 [nbconvert]\n",
      "   ------------------------------------- -- 55/59 [nbconvert]\n",
      "   ------------------------------------- -- 55/59 [nbconvert]\n",
      "   ------------------------------------- -- 55/59 [nbconvert]\n",
      "   ------------------------------------- -- 55/59 [nbconvert]\n",
      "   ------------------------------------- -- 55/59 [nbconvert]\n",
      "   ------------------------------------- -- 56/59 [jupyter-server]\n",
      "   ------------------------------------- -- 56/59 [jupyter-server]\n",
      "   ------------------------------------- -- 56/59 [jupyter-server]\n",
      "   ------------------------------------- -- 56/59 [jupyter-server]\n",
      "   ------------------------------------- -- 56/59 [jupyter-server]\n",
      "   ------------------------------------- -- 56/59 [jupyter-server]\n",
      "   ------------------------------------- -- 56/59 [jupyter-server]\n",
      "   ------------------------------------- -- 56/59 [jupyter-server]\n",
      "   ------------------------------------- -- 56/59 [jupyter-server]\n",
      "   ------------------------------------- -- 56/59 [jupyter-server]\n",
      "   -------------------------------------- - 57/59 [jupyterlab-server]\n",
      "   -------------------------------------- - 57/59 [jupyterlab-server]\n",
      "   -------------------------------------- - 57/59 [jupyterlab-server]\n",
      "   ---------------------------------------  58/59 [voila]\n",
      "   ---------------------------------------  58/59 [voila]\n",
      "   ---------------------------------------  58/59 [voila]\n",
      "   ---------------------------------------  58/59 [voila]\n",
      "   ---------------------------------------  58/59 [voila]\n",
      "   ---------------------------------------  58/59 [voila]\n",
      "   ---------------------------------------  58/59 [voila]\n",
      "   ---------------------------------------- 59/59 [voila]\n",
      "\n",
      "Successfully installed anyio-4.9.0 argon2-cffi-25.1.0 argon2-cffi-bindings-21.2.0 arrow-1.3.0 attrs-25.3.0 babel-2.17.0 beautifulsoup4-4.13.4 bleach-6.2.0 cffi-1.17.1 defusedxml-0.7.1 fastjsonschema-2.21.1 fqdn-1.5.1 isoduration-20.11.0 jinja2-3.1.6 json5-0.12.0 jsonpointer-3.0.0 jsonschema-4.25.0 jsonschema-specifications-2025.4.1 jupyter-client-8.6.3 jupyter-core-5.8.1 jupyter-events-0.12.0 jupyter-server-2.16.0 jupyter-server-terminals-0.5.3 jupyterlab-pygments-0.3.0 jupyterlab-server-2.27.3 lark-1.2.2 mistune-3.1.3 nbclient-0.10.2 nbconvert-7.16.6 nbformat-5.10.4 overrides-7.7.0 pandocfilters-1.5.1 platformdirs-4.3.8 prometheus-client-0.22.1 pycparser-2.22 python-json-logger-3.3.0 pywin32-311 pywinpty-2.0.15 pyyaml-6.0.2 pyzmq-27.0.0 referencing-0.36.2 rfc3339-validator-0.1.4 rfc3986-validator-0.1.1 rfc3987-syntax-1.1.0 rpds-py-0.26.0 send2trash-1.8.3 sniffio-1.3.1 soupsieve-2.7 terminado-0.18.1 tinycss2-1.4.0 tornado-6.5.1 traitlets-5.14.3 types-python-dateutil-2.9.0.20250708 uri-template-1.3.0 voila-0.5.8 webcolors-24.11.1 webencodings-0.5.1 websocket-client-1.8.0 websockets-15.0.1\n"
     ]
    },
    {
     "name": "stderr",
     "output_type": "stream",
     "text": [
      "usage: jupyter [-h] [--version] [--config-dir] [--data-dir] [--runtime-dir]\n",
      "               [--paths] [--json] [--debug]\n",
      "               [subcommand]\n",
      "\n",
      "Jupyter: Interactive Computing\n",
      "\n",
      "positional arguments:\n",
      "  subcommand     the subcommand to launch\n",
      "\n",
      "options:\n",
      "  -h, --help     show this help message and exit\n",
      "  --version      show the versions of core jupyter packages and exit\n",
      "  --config-dir   show Jupyter config dir\n",
      "  --data-dir     show Jupyter data dir\n",
      "  --runtime-dir  show Jupyter runtime dir\n",
      "  --paths        show all Jupyter paths. Add --json for machine-readable\n",
      "                 format.\n",
      "  --json         output paths as machine-readable json\n",
      "  --debug        output debug information about paths\n",
      "\n",
      "Available subcommands: dejavu events execute kernel kernelspec migrate\n",
      "nbconvert run server troubleshoot trust\n",
      "\n",
      "Jupyter command `jupyter-serverextension` not found.\n"
     ]
    }
   ],
   "source": [
    "!pip install voila\n",
    "!jupyter serverextension enable voila --sys-prefix"
   ]
  },
  {
   "cell_type": "code",
   "execution_count": 29,
   "id": "9358c4e9",
   "metadata": {},
   "outputs": [
    {
     "ename": "SyntaxError",
     "evalue": "invalid syntax (1989883002.py, line 2)",
     "output_type": "error",
     "traceback": [
      "  \u001b[36mCell\u001b[39m\u001b[36m \u001b[39m\u001b[32mIn[29]\u001b[39m\u001b[32m, line 2\u001b[39m\n\u001b[31m    \u001b[39m\u001b[31mvoila ProductionApp.ipynb\u001b[39m\n          ^\n\u001b[31mSyntaxError\u001b[39m\u001b[31m:\u001b[39m invalid syntax\n"
     ]
    }
   ],
   "source": [
    "from voila import * \n",
    "voila ProductionApp.ipynb"
   ]
  },
  {
   "cell_type": "code",
   "execution_count": null,
   "id": "fdeb90f3",
   "metadata": {},
   "outputs": [],
   "source": []
  }
 ],
 "metadata": {
  "kernelspec": {
   "display_name": "Python 3",
   "language": "python",
   "name": "python3"
  },
  "language_info": {
   "codemirror_mode": {
    "name": "ipython",
    "version": 3
   },
   "file_extension": ".py",
   "mimetype": "text/x-python",
   "name": "python",
   "nbconvert_exporter": "python",
   "pygments_lexer": "ipython3",
   "version": "3.13.5"
  }
 },
 "nbformat": 4,
 "nbformat_minor": 5
}
